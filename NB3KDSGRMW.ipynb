{
  "metadata" : {
    "kernelspec" : {
      "display_name" : "Python 2",
      "language" : "python",
      "name" : "python2"
    },
    "language_info" : {
      "file_extension" : ".py",
      "mimetype" : "text/x-python",
      "name" : "python"
    }
  },
  "nbformat" : 4,
  "nbformat_minor" : 2,
  "cells" : [ {
    "cell_type" : "code",
    "execution_count" : 0,
    "outputs" : [ ],
    "metadata" : { },
    "source" : [ "import pandas as pd\n\ndata = pd.read_csv('/tmp/eider-user/userfile/nayakams/AirPassengers.csv')\nprint(data.head(),data.dtypes)" ]
  }, {
    "cell_type" : "code",
    "execution_count" : 0,
    "outputs" : [ ],
    "metadata" : { },
    "source" : [ "dateparser = lambda date: pd.datetime.strptime(date, '%Y-%m')\ndata = pd.read_csv('/tmp/eider-user/userfile/nayakams/AirPassengers.csv', parse_dates = ['Month'], index_col = 'Month', date_parser = dateparser)\ndata.head()\ndata.dtypes\n" ]
  }, {
    "cell_type" : "code",
    "execution_count" : 0,
    "outputs" : [ ],
    "metadata" : { },
    "source" : [ "#Checking Stationarity\n\nfrom statsmodels.tsa.stattools import adfuller\nimport matplotlib.pyplot as plt\n\ndef test_stationarity(ts):\n    \n    #determining rolling statistics\n    rolmean = pd.rolling_mean(ts, window = 12)\n    rolstd = pd.rolling_std(ts, window = 12)\n    \n    #plotting rolling stats\n    \n    plt.plot(ts, color = 'black', label = 'original')\n    plt.plot(rolmean, color = 'blue', label = 'rol_avg')\n    plt.plot(rolstd, color = 'red', label = 'rol_std')\n    plt.show()\n    \n    #performing dfuller test\n    \n    dftest = adfuller(ts.iloc[:,0], autolag = 'AIC')\n    print(dftest)\n\n    dfoutput = pd.Series(dftest[0:4], index = ['Test Statistic', 'p-value', '#lag values', 'Number of observations used'])\n    \n    for key, values in dftest[4].items():\n        dfoutput['Critical value (%s)' %key] = values\n    print(dfoutput)\n    \ntest_stationarity(data)\n    " ]
  }, {
    "cell_type" : "code",
    "execution_count" : 0,
    "outputs" : [ ],
    "metadata" : { },
    "source" : [ "#To peanalise hihger values we can use log, sqaureroot, cube root and this process is called transformation.\nimport numpy as np\nlogdf = np.log(data)\nplt.plot(logdf)\n" ]
  }, {
    "cell_type" : "code",
    "execution_count" : 0,
    "outputs" : [ ],
    "metadata" : { },
    "source" : [ "#Eliminating Trend and Seasonality.\n#This can be done by 2 Methods: 1.Differencing  2.Decomposing\n\n#Differencing\n\ndiffdata = logdf - logdf.shift()\ndiffdata.dropna(inplace = True)\n\ntest_stationarity(diffdata)" ]
  }, {
    "cell_type" : "code",
    "execution_count" : 0,
    "outputs" : [ ],
    "metadata" : { },
    "source" : [ "#Decomposing\n\nfrom statsmodels.tsa.seasonal import seasonal_decompose\n\ndecomposition = seasonal_decompose(logdf)\n\nseasonal = decomposition.seasonal\ntrend = decomposition.trend\nresidual = decomposition.resid\n\nplt.subplot(411)\nplt.plot(logdf, label='Original')\nplt.legend(loc='best')\nplt.subplot(412)\nplt.plot(trend, label='Trend')\nplt.legend(loc='best')\nplt.subplot(413)\nplt.plot(seasonal,label='Seasonality')\nplt.legend()\nplt.subplot(414)\nplt.plot(residual, label='Residuals')\nplt.legend(loc='best')\nplt.tight_layout()" ]
  }, {
    "cell_type" : "code",
    "execution_count" : 0,
    "outputs" : [ ],
    "metadata" : { },
    "source" : [ "# Trend and Seasonality are seperated from data. Hence we can model the residuals\n\nresidual.dropna(inplace = True)\ntest_stationarity(residual)" ]
  }, {
    "cell_type" : "code",
    "execution_count" : 0,
    "outputs" : [ ],
    "metadata" : { },
    "source" : [ "\n# Forecasting Time Series\n\n#ACF and PACF plots:\nfrom statsmodels.tsa.stattools import acf, pacf\n\n\nlag_acf = acf(diffdata, nlags=20)\nlag_pacf = pacf(diffdata, nlags=20, method='ols')\n\n#Plot ACF: \nplt.subplot(121) \nplt.plot(lag_acf)\nplt.axhline(y=0,linestyle='--',color='gray')\nplt.axhline(y=-1.96/np.sqrt(len(diffdata)),linestyle='--',color='gray')\nplt.axhline(y=1.96/np.sqrt(len(diffdata)),linestyle='--',color='gray')\nplt.title('Autocorrelation Function')\n\n\n#Plot PACF:\nplt.subplot(122)\nplt.plot(lag_pacf)\nplt.axhline(y=0,linestyle='--',color='gray')\nplt.axhline(y=-1.96/np.sqrt(len(diffdata)),linestyle='--',color='gray')\nplt.axhline(y=1.96/np.sqrt(len(diffdata)),linestyle='--',color='gray')\nplt.title('Partial Autocorrelation Function')\nplt.tight_layout()" ]
  }, {
    "cell_type" : "code",
    "execution_count" : 0,
    "outputs" : [ ],
    "metadata" : { },
    "source" : [ "from statsmodels.tsa.arima_model import ARIMA\n\nmodel = ARIMA(logdf, order=(2, 1, 2))  \nresults_ARIMA = model.fit(disp=-1)  \nplt.plot(diffdata)\nplt.plot(results_ARIMA.fittedvalues, color='red')\nplt.title('RSS: %.4f'% sum((results_ARIMA.fittedvalues - diffdata)**2))" ]
  }, {
    "cell_type" : "code",
    "execution_count" : 0,
    "outputs" : [ ],
    "metadata" : { },
    "source" : [ "#Taking back to original scale\n\npredictions_ARIMA_diff = pd.Series(results_ARIMA.fittedvalues, copy=True)\nprint predictions_ARIMA_diff.head()" ]
  }, {
    "cell_type" : "code",
    "execution_count" : 0,
    "outputs" : [ ],
    "metadata" : { },
    "source" : [ "predictions_ARIMA_diff_cumsum = predictions_ARIMA_diff.cumsum()\nprint predictions_ARIMA_diff_cumsum.head()" ]
  }, {
    "cell_type" : "code",
    "execution_count" : 0,
    "outputs" : [ ],
    "metadata" : { },
    "source" : [ "predictions_ARIMA_log = pd.Series(logdf.ix[:,0], index=logdf.index)\npredictions_ARIMA_log = predictions_ARIMA_log.add(predictions_ARIMA_diff_cumsum,fill_value=0)\npredictions_ARIMA_log.head()" ]
  }, {
    "cell_type" : "code",
    "execution_count" : 0,
    "outputs" : [ ],
    "metadata" : { },
    "source" : [ "predictions_ARIMA = np.exp(predictions_ARIMA_log)\nplt.plot(data)\nplt.plot(predictions_ARIMA)\nplt.title('RMSE: %.4f'% np.sqrt(sum((predictions_ARIMA-data)**2)/len(data)))" ]
  } ]
}